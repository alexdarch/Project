{
 "cells": [
  {
   "cell_type": "code",
   "execution_count": 6,
   "metadata": {},
   "outputs": [],
   "source": [
    "from scipy.stats import norm\n",
    "import numpy as np\n",
    "import matplotlib.pyplot as plt"
   ]
  },
  {
   "cell_type": "markdown",
   "metadata": {},
   "source": [
    "## Converting state_2d for greater presidence in the centre"
   ]
  },
  {
   "cell_type": "code",
   "execution_count": 7,
   "metadata": {},
   "outputs": [
    {
     "name": "stdout",
     "output_type": "stream",
     "text": [
      "[-0.85860977 -0.56078504 -0.45210392 -0.37743994 -0.31805508 -0.26736385\n",
      " -0.22221444 -0.1808208  -0.14204934 -0.10511488 -0.06943108 -0.03452778\n",
      "  0.          0.03452778  0.06943108  0.10511488  0.14204934  0.1808208\n",
      "  0.22221444  0.26736385  0.31805508  0.37743994  0.45210392  0.56078504\n",
      "  0.85860977]\n",
      "25\n"
     ]
    },
    {
     "data": {
      "image/png": "[encoded data removed]",
      "text/plain": [
       "<Figure size 432x288 with 1 Axes>"
      ]
     },
     "metadata": {
      "needs_background": "light"
     },
     "output_type": "display_data"
    }
   ],
   "source": [
    "scaling = 1/3 # 1/3 gives a flat distribution when the imput is assumed gaussian, lowering it gives more weight to values -> 0\n",
    "mcts_bins = 25\n",
    "discount = 0.7\n",
    "bin_edges = np.asarray([norm.ppf(edge, scale=scaling) for edge in np.linspace(0.005, 0.995, num=mcts_bins)])\n",
    "plt.plot(bin_edges)\n",
    "print(bin_edges)\n",
    "print(len(bin_edges))"
   ]
  },
  {
   "cell_type": "code",
   "execution_count": 8,
   "metadata": {},
   "outputs": [],
   "source": [
    "def get_state_2d(self, prev_state_2d=None):\n",
    "    \"\"\"\n",
    "    curr_state numpy array [x_pos, x_vel, angle, ang_vel]\n",
    "    even though it says state[3] = tip_vel in the docs, its actually ang_vel (since length = 1)\n",
    "    max values are:        [+-2.4, inf, +-12 = +-0.21rad, inf]\n",
    "    \"\"\"\n",
    "    norm_obs = self.get_rounded_observation()\n",
    "    edges = np.linspace(-0.5, self.state_bins + 0.5, self.state_bins + 2)\n",
    "    new_pos, _, _ = np.histogram2d([norm_obs[2], ], [norm_obs[0], ], bins=(edges, edges))\n",
    "\n",
    "    if prev_state_2d is None:\n",
    "        # get the values to be roughly within +-1\n",
    "        prev_obs = (self.state[2] - self.state[3], self.state[0] - self.state[1])\n",
    "        prev_obs = (prev_obs[0] / self.theta_threshold_radians, prev_obs[1] / self.x_threshold)\n",
    "\n",
    "        prev_obs_binned = [np.abs(self.bin_edges - elm).argmin() for elm in\n",
    "                           prev_obs]  # should return the indexes of the norm.cdf\n",
    "        prev_pos, _, _ = np.histogram2d([prev_obs_binned[0], ], [prev_obs_binned[1], ],\n",
    "                                        bins=(edges, edges))\n",
    "        # prev_pos[prev_pos < 1 / (2 ** 5)] = 0   # only keep up to 4 times steps back\n",
    "        return new_pos + self.discount * prev_pos\n",
    "    else:\n",
    "        # prev_state_2d[prev_state_2d < 1 / (2 ** 5)] = 0\n",
    "        return new_pos + self.discount * prev_state_2d"
   ]
  },
  {
   "cell_type": "code",
   "execution_count": null,
   "metadata": {},
   "outputs": [],
   "source": []
  },
  {
   "cell_type": "markdown",
   "metadata": {},
   "source": [
    "## Speed of Converting/Binning MCTS States"
   ]
  },
  {
   "cell_type": "code",
   "execution_count": 9,
   "metadata": {},
   "outputs": [
    {
     "name": "stdout",
     "output_type": "stream",
     "text": [
      "[-1.03007744 -0.57382132 -0.45919297 -0.38223787 -0.32158558 -0.27006197\n",
      " -0.22430572 -0.18243623 -0.14327024 -0.10599338 -0.07000043 -0.03480781\n",
      "  0.          0.03480781  0.07000043  0.10599338  0.14327024  0.18243623\n",
      "  0.22430572  0.27006197  0.32158558  0.38223787  0.45919297  0.57382132\n",
      "  1.03007744]\n"
     ]
    },
    {
     "data": {
      "image/png": "[encoded data removed]",
      "text/plain": [
       "<Figure size 432x288 with 1 Axes>"
      ]
     },
     "metadata": {
      "needs_background": "light"
     },
     "output_type": "display_data"
    }
   ],
   "source": [
    "scaling = 1/3 # 1/3 gives a flat distribution when the imput is assumed gaussian, lowering it gives more weight to values -> 0\n",
    "mcts_bins = 25\n",
    "bin_edges = np.asarray([norm.ppf(edge, scale=scaling) for edge in np.linspace(0.001, 0.999, num=mcts_bins)])\n",
    "plt.plot(bin_edges)\n",
    "print(bin_edges)"
   ]
  },
  {
   "cell_type": "code",
   "execution_count": 10,
   "metadata": {},
   "outputs": [],
   "source": [
    "def get_rounded_observation1(state):\n",
    "    \"\"\" norm.cfd not implemented \"\"\"\n",
    "    # would divide by self.threshold here\n",
    "    obs = [state[0],\n",
    "           state[1],\n",
    "           state[2],\n",
    "           state[3]\n",
    "           ]\n",
    "\n",
    "    obs = [int(round(elm*mcts_bins)) for elm in obs]\n",
    "    return tuple(obs)\n",
    "\n",
    "def get_rounded_observation2(state):\n",
    "    \"\"\" Possible better implementation of norm.cdf \"\"\"\n",
    "    # would divide by self.threshold here\n",
    "    obs = [state[0],\n",
    "           state[1],\n",
    "           state[2],\n",
    "           state[3]\n",
    "           ]\n",
    "    # what about calculating a list of bin edges at the start using inverse cfd (norm.ppf),\n",
    "    # and then running each thing through until we get to said list idx then returning the index as the\n",
    "    # norm cdf'd output? would remove the whole astype(int) things too so maybe even faster if small enough?\n",
    "    \n",
    "    obs = [np.abs(bin_edges-elm).argmin() for elm in obs]    # should return the indexes of the norm.cdf\n",
    "    return tuple(obs)\n",
    "    \n",
    "    \n",
    "\n",
    "def get_rounded_observation3(state):\n",
    "    \"\"\" naive implementation of norm.cdf \"\"\"\n",
    "    obs = [state[0],\n",
    "           state[1],\n",
    "           state[2],\n",
    "           state[3],\n",
    "           ]\n",
    "    obs = norm.cdf(obs, scale=scaling)\n",
    "    obs = np.round(obs*mcts_bins).astype(int)\n",
    "    return tuple(obs.tolist())"
   ]
  },
  {
   "cell_type": "code",
   "execution_count": 11,
   "metadata": {},
   "outputs": [],
   "source": [
    "norm_values, unif_values = [], []\n",
    "nv, uv = [], []\n",
    "for i in range(20000):\n",
    "    n = np.random.randn(4)/3\n",
    "    norm_values.append(n)\n",
    "    nv.extend(n)\n",
    "    \n",
    "    u = (np.random.rand(4)-0.5)*2\n",
    "    unif_values.append(u)\n",
    "    uv.extend(u)"
   ]
  },
  {
   "cell_type": "code",
   "execution_count": 12,
   "metadata": {},
   "outputs": [],
   "source": [
    "def repeat(values, func):\n",
    "    comp = []\n",
    "    for v in values:\n",
    "        obs = func(v)\n",
    "        comp.extend(obs)\n",
    "    return comp"
   ]
  },
  {
   "cell_type": "code",
   "execution_count": 13,
   "metadata": {},
   "outputs": [
    {
     "data": {
      "image/png": "[encoded data removed]",
      "text/plain": [
       "<Figure size 432x288 with 1 Axes>"
      ]
     },
     "metadata": {
      "needs_background": "light"
     },
     "output_type": "display_data"
    }
   ],
   "source": [
    "plt.hist(nv, alpha=0.3, density=True)\n",
    "# plt.plot(bin_edges)\n",
    "# plt.hist(uv, alpha=0.3)\n",
    "plt.show()"
   ]
  },
  {
   "cell_type": "code",
   "execution_count": 14,
   "metadata": {},
   "outputs": [
    {
     "name": "stdout",
     "output_type": "stream",
     "text": [
      "Wall time: 154 ms\n",
      "Wall time: 176 ms\n",
      "Wall time: 1.47 s\n"
     ]
    }
   ],
   "source": [
    "%time naive = repeat(norm_values, get_rounded_observation1)\n",
    "%time test = repeat(norm_values, get_rounded_observation2)\n",
    "%time working = repeat(norm_values, get_rounded_observation3)"
   ]
  },
  {
   "cell_type": "code",
   "execution_count": 15,
   "metadata": {},
   "outputs": [
    {
     "name": "stdout",
     "output_type": "stream",
     "text": [
      "24 0\n"
     ]
    }
   ],
   "source": [
    "print(max(test), min(test))"
   ]
  },
  {
   "cell_type": "code",
   "execution_count": 16,
   "metadata": {},
   "outputs": [
    {
     "data": {
      "image/png": "[encoded data removed]",
      "text/plain": [
       "<Figure size 432x288 with 1 Axes>"
      ]
     },
     "metadata": {
      "needs_background": "light"
     },
     "output_type": "display_data"
    }
   ],
   "source": [
    "plt.hist(test, alpha=0.3, bins=25, density=True)\n",
    "# plt.hist(working, alpha=0.3, bins=25)\n",
    "# plt.hist(naive, alpha=0.3, bins=25)\n",
    "\n",
    "# also plot how a uniform dist would look:\n",
    "# plt.hist(repeat(unif_values, get_rounded_observation2), alpha=0.3, bins=25)\n",
    "# plt.ylim([0, 10000])\n",
    "plt.show()"
   ]
  },
  {
   "cell_type": "markdown",
   "metadata": {},
   "source": [
    "## joining paths"
   ]
  },
  {
   "cell_type": "code",
   "execution_count": 17,
   "metadata": {},
   "outputs": [],
   "source": [
    "import os"
   ]
  },
  {
   "cell_type": "code",
   "execution_count": 18,
   "metadata": {},
   "outputs": [],
   "source": [
    "file_path = os.path.join('NetCheckpoints', 'checkpoint.pth.tar')"
   ]
  },
  {
   "cell_type": "code",
   "execution_count": 19,
   "metadata": {},
   "outputs": [
    {
     "name": "stdout",
     "output_type": "stream",
     "text": [
      "NetCheckpoints\\checkpoint.pth.tar\n"
     ]
    }
   ],
   "source": [
    "print(file_path)"
   ]
  },
  {
   "cell_type": "markdown",
   "metadata": {},
   "source": [
    "## calculating means of list of lists"
   ]
  },
  {
   "cell_type": "code",
   "execution_count": 20,
   "metadata": {},
   "outputs": [],
   "source": [
    "lsta = [11, 12, 13, 14, 15, 16, 17, 18]\n",
    "lstb = [21, 22, 23, 24, 25, 26, 27]\n",
    "lstc = [31, 32, 33, 34, 35, 36, 37]"
   ]
  },
  {
   "cell_type": "code",
   "execution_count": 21,
   "metadata": {},
   "outputs": [
    {
     "name": "stdout",
     "output_type": "stream",
     "text": [
      "[(11, 21, 31), (12, 22, 32), (13, 23, 33), (14, 24, 34), (15, 25, 35), (16, 26, 36), (17, 27, 37)]\n",
      "[(11, 21, 31), (12, 22, 32), (13, 23, 33), (14, 24, 34), (15, 25, 35), (16, 26, 36), (17, 27, 37)]\n"
     ]
    }
   ],
   "source": [
    "lstall = [x for x in zip(lsta, lstb, lstc)]\n",
    "print(list(zip(lsta, lstb, lstc)))\n",
    "print(lstall)"
   ]
  },
  {
   "cell_type": "code",
   "execution_count": 22,
   "metadata": {},
   "outputs": [
    {
     "name": "stdout",
     "output_type": "stream",
     "text": [
      "[[11, 12, 13, 14, 15, 16, 17, 18], [21, 22, 23, 24, 25, 26, 27], [31, 32, 33, 34, 35, 36, 37]]\n"
     ]
    }
   ],
   "source": [
    "lst1 = []\n",
    "lst1.append(lsta)\n",
    "lst1.append(lstb)\n",
    "lst1.append(lstc)\n",
    "print(lst1)"
   ]
  },
  {
   "cell_type": "code",
   "execution_count": 23,
   "metadata": {},
   "outputs": [
    {
     "name": "stdout",
     "output_type": "stream",
     "text": [
      "[(116, 8), (168, 7), (238, 7)]\n",
      "23.727272727272727\n"
     ]
    }
   ],
   "source": [
    "sum_and_count = [(sum(s1), len(s1)) for s1 in lst1]\n",
    "print(sum_and_count)\n",
    "mean = [sum(x) for x in zip(*sum_and_count)]\n",
    "print(mean[0]/mean[1])"
   ]
  },
  {
   "cell_type": "markdown",
   "metadata": {},
   "source": [
    "## Saving Examples To CSV"
   ]
  },
  {
   "cell_type": "code",
   "execution_count": 24,
   "metadata": {},
   "outputs": [
    {
     "name": "stdout",
     "output_type": "stream",
     "text": [
      "[1, 1, 1, 1, 1, 1]\n",
      "[[1, 1, 1, 1, 1, 1], [[None, None, 2], [None, None, 2], [None, None, 2], [None, None, 2], [None, None, 2], [None, None, 2]]]\n"
     ]
    }
   ],
   "source": [
    "examples = []\n",
    "a = [[None, None, 1], [None, None, 1] ,[None, None, 1], [None, None, 1], [None, None, 1], [None, None, 1]]\n",
    "a_new = [x[2] for x in a]\n",
    "print(a_new)\n",
    "examples.append(a_new)\n",
    "examples.append([[None, None, 2], [None, None, 2] ,[None, None, 2], [None, None, 2], [None, None, 2], [None, None, 2]])\n",
    "print(examples)"
   ]
  },
  {
   "cell_type": "markdown",
   "metadata": {},
   "source": [
    "## Adding Counts with Adversary"
   ]
  },
  {
   "cell_type": "code",
   "execution_count": 25,
   "metadata": {},
   "outputs": [
    {
     "name": "stdout",
     "output_type": "stream",
     "text": [
      "[0, 0]\n",
      "[2, 5]\n",
      "[5, 12]\n",
      "([0, 0.1, 0.2, 0.3], 0, 1)\n",
      "0 1 (0, 1)\n"
     ]
    }
   ],
   "source": [
    "Nsa = {(0, 0): 2, (0, 1): 3, (1, 0): 5, (1, 1): 7}\n",
    "# we are counting the counts irrespective of what the adversary (x) is doing...\n",
    "# should end up with [(0, x), (1, x)] = [2+3, 5+7]\n",
    "counts = [0]*2\n",
    "print(counts)\n",
    "for x in range(2):\n",
    "    counts = [counts[a]+Nsa[(a, x)] if (a, x) in Nsa else counts[a] for a in range(2)]\n",
    "    print(counts)\n",
    "\n",
    "s = [0, 0.1, 0.2, 0.3]\n",
    "a = (0, 1)\n",
    "s_a = (s, *a)\n",
    "print(s_a)\n",
    "a1, a2 = a\n",
    "print(a1, a2, a)"
   ]
  },
  {
   "cell_type": "code",
   "execution_count": 26,
   "metadata": {},
   "outputs": [
    {
     "name": "stdout",
     "output_type": "stream",
     "text": [
      "0 1\n",
      "0\n",
      "1\n",
      "1\n",
      "0\n"
     ]
    }
   ],
   "source": [
    "def multi_return_func(x):\n",
    "    return [x, x**2], [x-2, x+2]\n",
    "f = lambda x: np.argmax(multi_return_func(x), axis=1)\n",
    "\n",
    "a, b = f(0.5)\n",
    "print(a, b)\n",
    "for x in range(2):\n",
    "    print(x)\n",
    "    print((x+1)%2)"
   ]
  },
  {
   "cell_type": "markdown",
   "metadata": {},
   "source": [
    "## State Masking"
   ]
  },
  {
   "cell_type": "code",
   "execution_count": 27,
   "metadata": {},
   "outputs": [
    {
     "name": "stdout",
     "output_type": "stream",
     "text": [
      "Wall time: 999 µs\n",
      "-1.0\n"
     ]
    }
   ],
   "source": [
    "state = [1, 1, 1, 1]\n",
    "mask = [0.25, 0, 0.7, 1]\n",
    "norm = sum(mask)\n",
    "%time loss = [-w*(s**2)/norm for w, s in zip(mask, state)]\n",
    "print(sum(loss))\n"
   ]
  },
  {
   "cell_type": "code",
   "execution_count": 55,
   "metadata": {},
   "outputs": [
    {
     "name": "stdout",
     "output_type": "stream",
     "text": [
      "[0 0 1]\n",
      "[(1, 1, 6), (2, 2, 7), (-1, -1, -1)]\n"
     ]
    }
   ],
   "source": [
    "examples = np.array([[1, 2, -1], [4, 5, 0], [6, 7, -1], [8, 9, 0]])\n",
    "examples = examples[examples[:,2]==-1, :]\n",
    "sample_ids = np.random.randint(len(examples), size=3)\n",
    "print(sample_ids)\n",
    "print(   list(zip(*[examples[i] for i in sample_ids]))   )\n"
   ]
  },
  {
   "cell_type": "markdown",
   "metadata": {},
   "source": [
    "## Checking if a state is close to a dictionary key"
   ]
  },
  {
   "cell_type": "code",
   "execution_count": 169,
   "metadata": {},
   "outputs": [],
   "source": [
    "from copy import deepcopy"
   ]
  },
  {
   "cell_type": "code",
   "execution_count": 176,
   "metadata": {},
   "outputs": [],
   "source": [
    "class RoundingDict:\n",
    "    def __init__(self, preset=None):\n",
    "        self.rounded_dict = {}\n",
    "        self.accuracy = 1e10\n",
    "        if preset is not None:\n",
    "            assert isinstance(preset, dict), \"not a valid dictionary\"\n",
    "            self.rounded_dict = deepcopy(preset)\n",
    "            print(self.rounded_dict)\n",
    "            \n",
    "            for visited_state in self.rounded_dict:\n",
    "                new_key = tuple([int(dim*self.accuracy) for dim in visited_state])\n",
    "                # self.rounded_dict[new_key] = self.rounded_dict[visited_state]\n",
    "                # del self.rounded_dict[visited_state]\n",
    "                self.rounded_dict[new_key] = self.rounded_dict.pop(visited_state)\n",
    "                \n",
    "        print(self.rounded_dict)\n",
    "        \n",
    "    def __contains__(self, key):\n",
    "        \n",
    "        if key in self.rounded_dict:\n",
    "            return True\n",
    "               \n",
    "        new_key = tuple([int(dim*self.accuracy) for dim in key])\n",
    "        if new_key in self.rounded_dict:\n",
    "            return True\n",
    "        \n",
    "        print(\"not found\")\n",
    "        return False\n",
    "    \n",
    "    def __getitem__(self, key):\n",
    "        # returns the value of self.rounded_dict at index key\n",
    "        new_key = tuple([int(dim*self.accuracy) for dim in key])\n",
    "        if new_key in self.rounded_dict:\n",
    "            print(\"Getting Item: \", self.rounded_dict[new_key])\n",
    "            return self.rounded_dict[new_key]\n",
    "        \n",
    "        if key in self.rounded_dict:\n",
    "            return self.rounded_dict[key]\n",
    "        raise KeyError('Key not found')\n",
    "    \n",
    "    def __setitem__(self, key, item):\n",
    "        \n",
    "        new_key = tuple([int(dim*self.accuracy) for dim in key])\n",
    "        if new_key in self.rounded_dict:\n",
    "            self.rounded_dict[new_key] = item\n",
    "            print(\"Setting: \", new_key, self.rounded_dict[new_key])\n",
    "        \n",
    "        if key in self.rounded_dict:\n",
    "            self.rounded_dict[key] = item\n",
    "                \n",
    "    def __str__(self):\n",
    "        return self.rounded_dict.__str__()\n",
    "    \n",
    "# check Ps[s][a] works and Q[(s, a)]"
   ]
  },
  {
   "cell_type": "code",
   "execution_count": 177,
   "metadata": {},
   "outputs": [],
   "source": [
    "state_dict = {(-0.1, -0.1, -0.1, -0.1): 1, \n",
    "              (-0.102, -0.09857741, -0.102, -0.13147425): 0, \n",
    "              (-0.10397155, -0.09712752, -0.10462949, -0.16357381): 0}\n",
    "test = (-0.101999, -0.101, -0.10199, -0.101)\n",
    "test2 = (-0.1, -0.1, -0.1, -0.1)"
   ]
  },
  {
   "cell_type": "code",
   "execution_count": 180,
   "metadata": {},
   "outputs": [
    {
     "name": "stdout",
     "output_type": "stream",
     "text": [
      "{(-0.1, -0.1, -0.1, -0.1): 1, (-0.102, -0.09857741, -0.102, -0.13147425): 0, (-0.10397155, -0.09712752, -0.10462949, -0.16357381): 0}\n",
      "{(-1000000000, -1000000000, -1000000000, -1000000000): 1, (-1019999999, -985774100, -1019999999, -1314742499): 0, (-1039715500, -971275200, -1046294900, -1635738099): 0}\n",
      "Setting:  (-1000000000, -1000000000, -1000000000, -1000000000) 1\n",
      "Getting Item:  1\n",
      "Setting:  (-1000000000, -1000000000, -1000000000, -1000000000) 2\n",
      "Getting Item:  2\n",
      "Setting:  (-1000000000, -1000000000, -1000000000, -1000000000) 1.0\n",
      "Getting Item:  1.0\n",
      "yep (-0.1, -0.1, -0.1, -0.1) 1.0\n"
     ]
    }
   ],
   "source": [
    "r_dict = RoundingDict(state_dict)\n",
    "\n",
    "r_dict[test2] = 1\n",
    "r_dict[test2] += 1\n",
    "r_dict[test2] /= 2\n",
    "\n",
    "if test2 in r_dict:\n",
    "    print(\"yep\", test2, r_dict[test2])"
   ]
  },
  {
   "cell_type": "code",
   "execution_count": 174,
   "metadata": {},
   "outputs": [
    {
     "name": "stdout",
     "output_type": "stream",
     "text": [
      "True\n",
      "[(-0.1, -0.1, -0.1, -0.1), (-0.102, -0.09857741, -0.102, -0.13147425), (-0.10397155, -0.09712752, -0.10462949, -0.16357381)]\n",
      "[[ True  True  True  True]\n",
      " [False False False False]\n",
      " [False False False False]]\n",
      "[True, False, False]\n",
      "True\n"
     ]
    }
   ],
   "source": [
    "print(test2 in state_dict)\n",
    "\n",
    "print(list(state_dict.keys()))\n",
    "lst = np.isclose(test2, list(state_dict.keys()))\n",
    "print(lst)\n",
    "lst = [visited.all() for visited in lst]\n",
    "print(lst)\n",
    "final_ans = any(lst)\n",
    "print(final_ans)"
   ]
  },
  {
   "cell_type": "code",
   "execution_count": null,
   "metadata": {},
   "outputs": [],
   "source": []
  },
  {
   "cell_type": "code",
   "execution_count": null,
   "metadata": {},
   "outputs": [],
   "source": []
  }
 ],
 "metadata": {
  "kernelspec": {
   "display_name": "Python 3",
   "language": "python",
   "name": "python3"
  },
  "language_info": {
   "codemirror_mode": {
    "name": "ipython",
    "version": 3
   },
   "file_extension": ".py",
   "mimetype": "text/x-python",
   "name": "python",
   "nbconvert_exporter": "python",
   "pygments_lexer": "ipython3",
   "version": "3.6.1"
  }
 },
 "nbformat": 4,
 "nbformat_minor": 2
}
