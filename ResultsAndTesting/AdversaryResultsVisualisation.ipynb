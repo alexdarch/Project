{
 "cells": [
  {
   "cell_type": "code",
   "execution_count": 1,
   "metadata": {},
   "outputs": [],
   "source": [
    "import pandas as pd\n",
    "import numpy as np\n",
    "from scipy import stats, interpolate\n",
    "import matplotlib.pyplot as plt\n",
    "import os\n",
    "from mpl_toolkits.mplot3d import Axes3D\n",
    "import matplotlib.cm as cm\n",
    "from ipywidgets import interact\n",
    "\n",
    "# get a list of all the colour strings in matplotlib so we can iterate through them\n",
    "from matplotlib import colors as mcolors\n",
    "colors = dict(mcolors.BASE_COLORS, **mcolors.CSS4_COLORS)\n",
    "colour_list = list(colors.keys())\n",
    "# 9 base colours ['b', 'g', 'r', 'c', 'm', 'y', 'k', 'w', 'aliceblue', 'antiquewhite', 'aqua'..."
   ]
  },
  {
   "cell_type": "markdown",
   "metadata": {},
   "source": [
    "# Behind The Scenes Code"
   ]
  },
  {
   "cell_type": "markdown",
   "metadata": {},
   "source": [
    "Read in Iteration Data (Training and NNet). Does all of the ugly calculations. Note, when the actions are changed, only self.action_space needs to be changed."
   ]
  },
  {
   "cell_type": "code",
   "execution_count": 110,
   "metadata": {},
   "outputs": [],
   "source": [
    "from IterationData import IterationData\n",
    "# folder = os.path.join('..\\Cartpole', 'Data\\\\')\n",
    "# iter_data = IterationData(folder, iteration=0)\n",
    "# iter_data.episode_data['Episode0'].tail()\n",
    "# iter_data.all_data.tail()"
   ]
  },
  {
   "cell_type": "markdown",
   "metadata": {},
   "source": [
    "Class To Visualise a Single Iteration. Generally these don't go quite as far as plotting, they create and return an axes object, which can then be plotted, or used in the Visualise class, which compares iterations"
   ]
  },
  {
   "cell_type": "code",
   "execution_count": 111,
   "metadata": {},
   "outputs": [],
   "source": [
    "from VisualiseIteration import VisualiseIteration"
   ]
  },
  {
   "cell_type": "code",
   "execution_count": 112,
   "metadata": {},
   "outputs": [],
   "source": [
    "folder = os.path.join('..\\Cartpole', 'Data\\\\')\n",
    "# iter_vis = VisualiseIteration(folder, 1)\n",
    "# iter_vis.add_axis_valuevsstep(None, colour = 'blue', axes=None)\n",
    "# iter_vis.add_axis_actionvsstep(None, agent='both', colour = 'blue', axes=None)\n",
    "# iter_vis.get_episode_value_stats()\n",
    "# iter_vis.plot_observations_histogram(normalised=True)"
   ]
  },
  {
   "cell_type": "code",
   "execution_count": 113,
   "metadata": {},
   "outputs": [
    {
     "name": "stdout",
     "output_type": "stream",
     "text": [
      "Help on class VisualiseIterations in module VisualiseIterations:\n",
      "\n",
      "class VisualiseIterations(builtins.object)\n",
      " |  VisualiseIterations principally contains a list of VisualiseIteration objects, which in turn contain Iteration data objects\n",
      " |  leading to an objects hirachy of VisualiseIterations <- Iter*VisualiseIteration <- IterationData. The main components of\n",
      " |  the two attribute classes are shown below:\n",
      " |  \n",
      " |  VisualiseIterations:\n",
      " |  Attributes:\n",
      " |      self.iters_data = [iter_data0, iter_data1, iter_data2, ...]\n",
      " |      self.iterations\n",
      " |  \n",
      " |  VisualiseIteration:\n",
      " |  Attributes:\n",
      " |      self.iter, self.action_space = [-1, 1], self.action_names ={0: 'Left', 1: 'Right'}\n",
      " |      self.default_action = 0  # left is default action to show (no need to show left and right)\n",
      " |      iter_data = IterationData(folder_path, iteration)\n",
      " |  Methods:\n",
      " |      add_axis_valuevsstep(self, episode=None, colour = 'blue', axes=None)\n",
      " |      add_axis_actionvsstep(self, episode=None, agent='player', colour = 'blue', axes=None)\n",
      " |      get_episode_value_stats(self)\n",
      " |      plot_observations_histogram(self, normalised=True)\n",
      " |      get_actionvsstate_probs(self, policy, x_dot_fixed=0, theta_dot_fixed=0, bin_proportion=0.15)\n",
      " |      add_axis_actionprobvsstate(self, prob_array, axes, agent='player', vs=(0.2, 0.8))\n",
      " |      plot_state_2d(self, episode, step)\n",
      " |  \n",
      " |  IterationData:\n",
      " |  Attributes:\n",
      " |      self.episodes = number of episodes in an iteration\n",
      " |      self.nnet_losses = Dataframe with ['PlayerAction', 'AdversaryAction', 'Value', 'Total'] as the column headders\n",
      " |      self.episode_data = A Dictionary of episodes with keys ['EpisodeN'] where N is an int.\n",
      " |              Each episode's value is a pandas dataframe with columns:\n",
      " |  \n",
      " |  ['TrueValue', 'PolicyValue', 'MCTSAction', 'PolicyAction', 'MCTSAdv', 'PolicyAdv',  'Observation',      'State2D']\n",
      " |    [ float,      float,         [f, f],        [f, f],      [f, f],     [f, f],  [x, xdot, theta, thetadot], 'arr_n']\n",
      " |  \n",
      " |      self.all_data = all of the episode data joined in columns as above\n",
      " |  \n",
      " |  Methods:\n",
      " |      get_state_2d(self, episode, step)\n",
      " |      get_episode_length(self, episode)\n",
      " |      get_max_episode(self)\n",
      " |  \n",
      " |  Methods defined here:\n",
      " |  \n",
      " |  __init__(self, data_set_path, iters='all')\n",
      " |      Initialize self.  See help(type(self)) for accurate signature.\n",
      " |  \n",
      " |  plot_actionprobsvsstates(self, iters=[0, 1, 2], policy=True, x_dot_fixed=0, theta_dot_fixed=0, bin_prop=0.05, colourbar_lims=(0, 1))\n",
      " |  \n",
      " |  plot_actionsvssteps(self, iters=[0, 1, 2], episodes='longest')\n",
      " |  \n",
      " |  plot_nnet_lossesvsbatch(self, iters=[0, 1, 2])\n",
      " |  \n",
      " |  plot_observation_histograms(self, iters=[0, 1, 2], normed=True)\n",
      " |  \n",
      " |  plot_valuesvssteps(self, iters=[0, 1, 2], episodes='longest')\n",
      " |  \n",
      " |  plot_valuevsstep(self, iters=[0, 1, 2], plot_stds=False, plot_all_eps=False)\n",
      " |  \n",
      " |  vs_state_3d(self, data_set='PolicyAction', iteration=0, angle=45, omitted_state='x_dot', omitted_state_value=0, binsize=0.15)\n",
      " |  \n",
      " |  ----------------------------------------------------------------------\n",
      " |  Data descriptors defined here:\n",
      " |  \n",
      " |  __dict__\n",
      " |      dictionary for instance variables (if defined)\n",
      " |  \n",
      " |  __weakref__\n",
      " |      list of weak references to the object (if defined)\n",
      "\n"
     ]
    }
   ],
   "source": [
    "from VisualiseIterations import VisualiseIterations\n",
    "help(VisualiseIterations)"
   ]
  },
  {
   "cell_type": "code",
   "execution_count": 114,
   "metadata": {},
   "outputs": [
    {
     "name": "stdout",
     "output_type": "stream",
     "text": [
      "There are  3  iterations stored in self.iterations\n"
     ]
    }
   ],
   "source": [
    "folder = os.path.join('..\\Cartpole', 'Data\\\\')\n",
    "v = VisualiseIterations(folder, [0, 1, 2])"
   ]
  },
  {
   "cell_type": "code",
   "execution_count": 116,
   "metadata": {},
   "outputs": [
    {
     "data": {
      "application/vnd.jupyter.widget-view+json": {
       "model_id": "8b52d49024cb464a92fa0d0adf2c1412",
       "version_major": 2,
       "version_minor": 0
      },
      "text/plain": [
       "interactive(children=(Dropdown(description='data_set', options=('PolicyAction', 'MCTSAction', 'PolicyAdv', 'MC…"
      ]
     },
     "metadata": {},
     "output_type": "display_data"
    },
    {
     "data": {
      "text/plain": [
       "<function ipywidgets.widgets.interaction._InteractFactory.__call__.<locals>.<lambda>(*args, **kwargs)>"
      ]
     },
     "execution_count": 116,
     "metadata": {},
     "output_type": "execute_result"
    }
   ],
   "source": [
    "interact(v.vs_state_3d, angle=(0, 180, 5),\n",
    "         iteration=(0 , v.iterations-1, 1),\n",
    "         data_set=['PolicyAction', 'MCTSAction', 'PolicyAdv', 'MCTSAdv', 'PolicyValue', 'TrueValue'], \n",
    "         omitted_state=['x_dot', 'theta_dot'], \n",
    "         omitted_state_value=(-3, 3, 0.1), \n",
    "         binsize=(0.05, 2, 0.05))"
   ]
  },
  {
   "cell_type": "code",
   "execution_count": null,
   "metadata": {},
   "outputs": [],
   "source": []
  }
 ],
 "metadata": {
  "kernelspec": {
   "display_name": "Python 3",
   "language": "python",
   "name": "python3"
  },
  "language_info": {
   "codemirror_mode": {
    "name": "ipython",
    "version": 3
   },
   "file_extension": ".py",
   "mimetype": "text/x-python",
   "name": "python",
   "nbconvert_exporter": "python",
   "pygments_lexer": "ipython3",
   "version": "3.6.1"
  }
 },
 "nbformat": 4,
 "nbformat_minor": 2
}
