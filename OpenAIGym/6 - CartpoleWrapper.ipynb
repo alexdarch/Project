{
 "cells": [
  {
   "cell_type": "code",
   "execution_count": 228,
   "metadata": {},
   "outputs": [],
   "source": [
    "import gym\n",
    "import numpy as np\n",
    "import matplotlib.pyplot as plt\n",
    "import inspect"
   ]
  },
  {
   "cell_type": "code",
   "execution_count": 229,
   "metadata": {},
   "outputs": [],
   "source": [
    "base_env = gym.make(\"CartPole-v1\")\n",
    "# dir(base_env)\n",
    "# base_env.__dict__\n",
    "# help(base_env)\n",
    "# print(super().base_env)"
   ]
  },
  {
   "cell_type": "code",
   "execution_count": 230,
   "metadata": {},
   "outputs": [],
   "source": [
    "#use gym.ObservationWrapper if only wanting to change action\n",
    "class CartpoleWrapper(gym.envs.classic_control.cartpole.CartPoleEnv):\n",
    "    \"\"\"\n",
    "    This wrapper edits the reset method so that we can choose the \n",
    "    \"\"\"\n",
    "    def __init__(self, env):\n",
    "        super().__init__()\n",
    "        # self._max_steps = env.spec.max_episode_steps\n",
    "        \n",
    "    def reset(self, init_state):\n",
    "        \n",
    "        super().reset() # call the base reset to do all of the other stuff\n",
    "        self.state = np.array(init_state) # and then edit state if we want\n",
    "        return self.state\n",
    "    \n",
    "    def get2Dstate(self, curr_state, prev2Dstate = None):\n",
    "        # curr_state numpy array [xpos, xvel, angle, angvel] # even though it says state[3] = tip_vel in the docs, its actually vel\n",
    "        # max values are:         [+-4.8, inf, +-12 = +-0.21rad, inf]\n",
    "        pos_edges, ang_edges = np.linspace(-4.8, 4.8, 101), np.linspace(-12*np.pi/180, 12*np.pi/180, 101)\n",
    "        new_pos, _, _ = np.histogram2d([curr_state[2], ], [curr_state[0], ], bins=(ang_edges, pos_edges))\n",
    "        prev_pos, _, _ = np.histogram2d([curr_state[2]-curr_state[3], ], [curr_state[0]-curr_state[1], ], bins=(ang_edges, pos_edges))\n",
    "        \n",
    "        if prev2Dstate is None:\n",
    "            return new_pos + 0.7*prev_pos\n",
    "        else:\n",
    "            return new_pos + 0.7*prev2Dstate   \n",
    "        \n",
    "    def printState(self, state_2D):\n",
    "        plt.imshow(state_2D, extent=[-4.8, 4.8, -12*np.pi/180, 12*np.pi/180], cmap='jet', aspect='auto')\n",
    "        plt.xlabel(\"X-Position\")\n",
    "        plt.ylabel(\"Angular Position\")\n",
    "        plt.colorbar()\n",
    "        plt.show()\n",
    "        \n",
    "    def getActionSize(self):\n",
    "        x = 0\n",
    "        while self.action_space.contains(x):\n",
    "            x += 1\n",
    "        return x\n",
    "        \n",
    "        \n",
    "    # @property\n",
    "    # def reached_goal(self):\n",
    "    #     return self._steps >= self._max_steps"
   ]
  },
  {
   "cell_type": "code",
   "execution_count": 231,
   "metadata": {},
   "outputs": [],
   "source": [
    "env = CartpoleWrapper(gym.make(\"CartPole-v1\"))   "
   ]
  },
  {
   "cell_type": "code",
   "execution_count": 232,
   "metadata": {},
   "outputs": [
    {
     "name": "stdout",
     "output_type": "stream",
     "text": [
      "[0.1 0.1 0.1 0.1]\n",
      "[ 0.102      -0.09640235  0.102       0.42248276]\n",
      "[ 0.10007195 -0.29281027  0.11044966  0.74549943]\n"
     ]
    }
   ],
   "source": [
    "# curr_state numpy array [xpos, xvel, angle, angvel]\n",
    "s_obs = [0.1, 0.1, 0.1, 0.1]\n",
    "print(env.reset(s_obs))\n",
    "tobs, re, d, inf = env.step(0)\n",
    "print(tobs)\n",
    "tobs, re, d, inf = env.step(0)\n",
    "print(tobs)"
   ]
  },
  {
   "cell_type": "code",
   "execution_count": null,
   "metadata": {},
   "outputs": [],
   "source": [
    "start_obs = env.reset(s_obs)\n",
    "total_reward = 0.0\n",
    "state2D = env.get2Dstate(start_obs)\n",
    "print(start_obs)\n",
    "env.printState(state2D)\n",
    "\n",
    "while True:\n",
    "    \n",
    "    obs, reward, done, _ = env.step(0)\n",
    "    print(obs)\n",
    "    state2D = env.get2Dstate(obs, state2D)\n",
    "    # env.render()\n",
    "    env.printState(state2D)\n",
    "\n",
    "    if done:\n",
    "        break"
   ]
  },
  {
   "cell_type": "code",
   "execution_count": null,
   "metadata": {},
   "outputs": [],
   "source": []
  }
 ],
 "metadata": {
  "kernelspec": {
   "display_name": "Python 3",
   "language": "python",
   "name": "python3"
  },
  "language_info": {
   "codemirror_mode": {
    "name": "ipython",
    "version": 3
   },
   "file_extension": ".py",
   "mimetype": "text/x-python",
   "name": "python",
   "nbconvert_exporter": "python",
   "pygments_lexer": "ipython3",
   "version": "3.6.7"
  }
 },
 "nbformat": 4,
 "nbformat_minor": 2
}
